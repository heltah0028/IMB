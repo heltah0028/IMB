{
 "cells": [
  {
   "cell_type": "markdown",
   "id": "f3206cc9-7c1f-44c5-ad9b-3023115fd845",
   "metadata": {},
   "source": [
    "# Data Science Tools peer grade assessment "
   ]
  },
  {
   "cell_type": "markdown",
   "id": "9319e88b-a40f-49b3-a8ba-d7535646c605",
   "metadata": {},
   "source": [
    "In this notebook, we summarize some of the tools and libraries used by data scientists."
   ]
  },
  {
   "cell_type": "markdown",
   "id": "d1a50ca2-dbf9-4f48-a002-5d0a5db0a389",
   "metadata": {},
   "source": [
    "**Some of the popular languages that Data Scientists use are:**\n",
    "- Python\n",
    "- R\n",
    "- SQL\n",
    "- Julia"
   ]
  },
  {
   "cell_type": "markdown",
   "id": "cfa5b50d-49c7-44d4-9aa5-fa1915597b29",
   "metadata": {},
   "source": [
    "**Some of the commonly used libraries used by Data Scientists include:**\n",
    "- Pandas\n",
    "- NumPy\n",
    "- Matplotlib\n",
    "- TensorFlow"
   ]
  },
  {
   "cell_type": "markdown",
   "id": "39c5b159-b4fb-4b15-9f64-bfeaafd1aeb1",
   "metadata": {},
   "source": [
    "| Tool         | Description                    |\n",
    "|--------------|---------------------------------|\n",
    "| JupyterLab   | Notebook environment            |\n",
    "| RStudio      | IDE for R                       |\n",
    "| Google Colab | Cloud-based Jupyter notebook tool |\n"
   ]
  },
  {
   "cell_type": "markdown",
   "id": "683af87c-6ad8-4829-a557-51ae553b034a",
   "metadata": {},
   "source": [
    "### Below are a few examples of evaluating arithmetic expressions in Python.\n"
   ]
  },
  {
   "cell_type": "code",
   "execution_count": 4,
   "id": "fa706541-1fb6-493e-a856-143dcec48ef2",
   "metadata": {},
   "outputs": [
    {
     "data": {
      "text/plain": [
       "209.45"
      ]
     },
     "execution_count": 4,
     "metadata": {},
     "output_type": "execute_result"
    }
   ],
   "source": [
    "# This will convert 12567 minutes to hours by dividing by 60\n",
    "12567/ 60"
   ]
  },
  {
   "cell_type": "markdown",
   "id": "4de878a1-17a3-4d18-93e7-48657925c252",
   "metadata": {},
   "source": [
    "**Objectives:**\n",
    "- List popular languages for Data Science\n",
    "- List commonly used libraries\n",
    "- Create tables in markdown\n",
    "- Perform arithmetic operations in code cells\n",
    "- Convert minutes to hours in code\n"
   ]
  },
  {
   "cell_type": "markdown",
   "id": "b857fcc3-fafc-41ec-b080-7d5c9fe56047",
   "metadata": {},
   "source": [
    "**Author:**\n",
    "\n",
    "Helia Taheri"
   ]
  },
  {
   "cell_type": "code",
   "execution_count": null,
   "id": "481557d0-b5ed-40c7-964b-aeb44a00df45",
   "metadata": {},
   "outputs": [],
   "source": []
  }
 ],
 "metadata": {
  "kernelspec": {
   "display_name": "Python 3 (ipykernel)",
   "language": "python",
   "name": "python3"
  },
  "language_info": {
   "codemirror_mode": {
    "name": "ipython",
    "version": 3
   },
   "file_extension": ".py",
   "mimetype": "text/x-python",
   "name": "python",
   "nbconvert_exporter": "python",
   "pygments_lexer": "ipython3",
   "version": "3.13.5"
  }
 },
 "nbformat": 4,
 "nbformat_minor": 5
}
